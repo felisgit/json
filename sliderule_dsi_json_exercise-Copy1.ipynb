{
 "cells": [
  {
   "cell_type": "code",
   "execution_count": 2,
   "metadata": {},
   "outputs": [
    {
     "data": {
      "text/plain": [
       "0      [{'code': '8', 'name': 'Human development'}, {...\n",
       "1      [{'code': '1', 'name': 'Economic management'},...\n",
       "2      [{'code': '5', 'name': 'Trade and integration'...\n",
       "3      [{'code': '7', 'name': 'Social dev/gender/incl...\n",
       "4      [{'code': '5', 'name': 'Trade and integration'...\n",
       "5      [{'code': '6', 'name': 'Social protection and ...\n",
       "6      [{'code': '2', 'name': 'Public sector governan...\n",
       "7      [{'code': '11', 'name': 'Environment and natur...\n",
       "8      [{'code': '10', 'name': 'Rural development'}, ...\n",
       "9      [{'code': '2', 'name': 'Public sector governan...\n",
       "10     [{'code': '10', 'name': 'Rural development'}, ...\n",
       "11     [{'code': '10', 'name': 'Rural development'}, ...\n",
       "12                           [{'code': '4', 'name': ''}]\n",
       "13     [{'code': '5', 'name': 'Trade and integration'...\n",
       "14     [{'code': '6', 'name': 'Social protection and ...\n",
       "15     [{'code': '10', 'name': 'Rural development'}, ...\n",
       "16     [{'code': '10', 'name': 'Rural development'}, ...\n",
       "17     [{'code': '8', 'name': 'Human development'}, {...\n",
       "18     [{'code': '8', 'name': 'Human development'}, {...\n",
       "19     [{'code': '2', 'name': 'Public sector governan...\n",
       "20     [{'code': '7', 'name': 'Social dev/gender/incl...\n",
       "21     [{'code': '9', 'name': 'Urban development'}, {...\n",
       "22     [{'code': '7', 'name': 'Social dev/gender/incl...\n",
       "23     [{'code': '8', 'name': 'Human development'}, {...\n",
       "24     [{'code': '10', 'name': 'Rural development'}, ...\n",
       "25     [{'code': '11', 'name': 'Environment and natur...\n",
       "26     [{'code': '4', 'name': 'Financial and private ...\n",
       "27     [{'code': '11', 'name': 'Environment and natur...\n",
       "28     [{'code': '10', 'name': 'Rural development'}, ...\n",
       "29     [{'code': '7', 'name': 'Social dev/gender/incl...\n",
       "                             ...                        \n",
       "470    [{'code': '5', 'name': 'Trade and integration'...\n",
       "471    [{'code': '10', 'name': 'Rural development'}, ...\n",
       "472    [{'code': '11', 'name': 'Environment and natur...\n",
       "473    [{'code': '11', 'name': 'Environment and natur...\n",
       "474    [{'code': '9', 'name': 'Urban development'}, {...\n",
       "475    [{'code': '4', 'name': 'Financial and private ...\n",
       "476    [{'code': '10', 'name': 'Rural development'}, ...\n",
       "477    [{'code': '4', 'name': 'Financial and private ...\n",
       "478    [{'code': '2', 'name': 'Public sector governan...\n",
       "479    [{'code': '7', 'name': 'Social dev/gender/incl...\n",
       "480    [{'code': '2', 'name': 'Public sector governan...\n",
       "481    [{'code': '8', 'name': 'Human development'}, {...\n",
       "482    [{'code': '10', 'name': 'Rural development'}, ...\n",
       "483    [{'code': '11', 'name': 'Environment and natur...\n",
       "484    [{'code': '10', 'name': 'Rural development'}, ...\n",
       "485    [{'code': '8', 'name': 'Human development'}, {...\n",
       "486    [{'code': '2', 'name': 'Public sector governan...\n",
       "487    [{'code': '11', 'name': 'Environment and natur...\n",
       "488    [{'code': '8', 'name': 'Human development'}, {...\n",
       "489    [{'code': '9', 'name': 'Urban development'}, {...\n",
       "490    [{'code': '2', 'name': 'Public sector governan...\n",
       "491    [{'code': '10', 'name': 'Rural development'}, ...\n",
       "492    [{'code': '8', 'name': 'Human development'}, {...\n",
       "493    [{'code': '11', 'name': 'Environment and natur...\n",
       "494    [{'code': '6', 'name': 'Social protection and ...\n",
       "495    [{'code': '4', 'name': 'Financial and private ...\n",
       "496    [{'code': '8', 'name': 'Human development'}, {...\n",
       "497    [{'code': '10', 'name': 'Rural development'}, ...\n",
       "498    [{'code': '10', 'name': 'Rural development'}, ...\n",
       "499    [{'code': '9', 'name': 'Urban development'}, {...\n",
       "Name: mjtheme_namecode, Length: 500, dtype: object"
      ]
     },
     "execution_count": 2,
     "metadata": {},
     "output_type": "execute_result"
    }
   ],
   "source": [
    "import pandas as pd\n",
    "import numpy as np\n",
    "import json\n",
    "from pandas.io.json import json_normalize\n",
    "\n",
    "World=pd.read_json('data/world_bank_projects.json',)\n",
    "#print(World.head())\n",
    "\n",
    "\n",
    "\n",
    "World.mjtheme_namecode # this gives the column am interested in;\n",
    "\n",
    "#I now want to arrange that column so I can have: code     name, and the list of codes and names under the titles of code and name.\n",
    "\n",
    "\n",
    "json_normalize(World,'mjtheme_namecode')# when I do this one then I get the error\n",
    "\n",
    "\n"
   ]
  },
  {
   "cell_type": "code",
   "execution_count": null,
   "metadata": {
    "collapsed": true
   },
   "outputs": [],
   "source": []
  },
  {
   "cell_type": "code",
   "execution_count": null,
   "metadata": {
    "collapsed": true
   },
   "outputs": [],
   "source": []
  }
 ],
 "metadata": {
  "kernelspec": {
   "display_name": "Python 3",
   "language": "python",
   "name": "python3"
  },
  "language_info": {
   "codemirror_mode": {
    "name": "ipython",
    "version": 3
   },
   "file_extension": ".py",
   "mimetype": "text/x-python",
   "name": "python",
   "nbconvert_exporter": "python",
   "pygments_lexer": "ipython3",
   "version": "3.6.1"
  }
 },
 "nbformat": 4,
 "nbformat_minor": 1
}
